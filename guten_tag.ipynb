{
  "nbformat": 4,
  "nbformat_minor": 0,
  "metadata": {
    "colab": {
      "provenance": [],
      "authorship_tag": "ABX9TyOhiiY3ZQ/70QZOdBUSjoUt",
      "include_colab_link": true
    },
    "kernelspec": {
      "name": "python3",
      "display_name": "Python 3"
    },
    "language_info": {
      "name": "python"
    }
  },
  "cells": [
    {
      "cell_type": "markdown",
      "metadata": {
        "id": "view-in-github",
        "colab_type": "text"
      },
      "source": [
        "<a href=\"https://colab.research.google.com/github/Hearlvein/colab/blob/main/guten_tag.ipynb\" target=\"_parent\"><img src=\"https://colab.research.google.com/assets/colab-badge.svg\" alt=\"Open In Colab\"/></a>"
      ]
    },
    {
      "cell_type": "code",
      "execution_count": null,
      "metadata": {
        "colab": {
          "base_uri": "https://localhost:8080/"
        },
        "id": "z9zGBpjOZ2O7",
        "outputId": "ebaa3b17-94bc-42e5-e53d-c005fe43ec51"
      },
      "outputs": [
        {
          "output_type": "stream",
          "name": "stdout",
          "text": [
            "Loading Gutenberg metadata cache...\n",
            "Downloading book ID 84...\n",
            "Saved book 84 to gutenberg_books/84.txt\n",
            "Downloading book ID 43...\n",
            "Saved book 43 to gutenberg_books/43.txt\n",
            "Downloading book ID 345...\n",
            "Saved book 345 to gutenberg_books/345.txt\n",
            "Downloading book ID 41445...\n",
            "Saved book 41445 to gutenberg_books/41445.txt\n",
            "Downloading book ID 55...\n",
            "Saved book 55 to gutenberg_books/55.txt\n",
            "Downloading book ID 2148...\n",
            "Saved book 2148 to gutenberg_books/2148.txt\n",
            "Downloading book ID 829...\n",
            "Saved book 829 to gutenberg_books/829.txt\n",
            "Downloading book ID 1251...\n",
            "Saved book 1251 to gutenberg_books/1251.txt\n",
            "Downloading book ID 16...\n",
            "Saved book 16 to gutenberg_books/16.txt\n",
            "Downloading book ID 36...\n",
            "Saved book 36 to gutenberg_books/36.txt\n"
          ]
        }
      ],
      "source": [
        "import os\n",
        "from gutenbergpy.textget import get_text_by_id\n",
        "from gutenbergpy.gutenbergcache import GutenbergCache\n",
        "from bs4 import BeautifulSoup\n",
        "import requests\n",
        "\n",
        "# Step 1: Scrape the bookshelf for book IDs\n",
        "def get_book_ids_from_bookshelf(url, limit=10):\n",
        "    response = requests.get(url)\n",
        "    soup = BeautifulSoup(response.text, 'html.parser')\n",
        "    book_links = soup.select('li.booklink a.link')\n",
        "    book_ids = []\n",
        "\n",
        "    for link in book_links:\n",
        "        href = link.get('href')\n",
        "        if href.startswith('/ebooks/'):\n",
        "            book_id = href.split('/')[-1]\n",
        "            if book_id.isdigit():\n",
        "                book_ids.append(int(book_id))\n",
        "                if len(book_ids) == limit:\n",
        "                    break\n",
        "    return book_ids\n",
        "\n",
        "# Step 2: Download and save books\n",
        "def download_books(book_ids, output_folder=\"gutenberg_books\"):\n",
        "    os.makedirs(output_folder, exist_ok=True)\n",
        "\n",
        "    # GutenbergPy uses a cached metadata database; load it\n",
        "    print(\"Loading Gutenberg metadata cache...\")\n",
        "    cache = GutenbergCache.get_cache()\n",
        "\n",
        "    for book_id in book_ids:\n",
        "        print(f\"Downloading book ID {book_id}...\")\n",
        "        try:\n",
        "            text_bytes = get_text_by_id(book_id)\n",
        "            text_str = text_bytes.decode('utf-8', errors='ignore')\n",
        "            output_path = os.path.join(output_folder, f\"{book_id}.txt\")\n",
        "            with open(output_path, 'w', encoding='utf-8') as f:\n",
        "                f.write(text_str)\n",
        "            print(f\"Saved book {book_id} to {output_path}\")\n",
        "        except Exception as e:\n",
        "            print(f\"Error downloading book {book_id}: {e}\")\n",
        "\n",
        "# Run the script\n",
        "if __name__ == \"__main__\":\n",
        "    bookshelf_url = \"https://www.gutenberg.org/ebooks/bookshelf/480\"\n",
        "    book_ids = get_book_ids_from_bookshelf(bookshelf_url, limit=10)\n",
        "    download_books(book_ids)\n"
      ]
    }
  ]
}